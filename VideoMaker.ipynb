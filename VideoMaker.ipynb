{
 "cells": [
  {
   "cell_type": "code",
   "execution_count": 1,
   "metadata": {},
   "outputs": [],
   "source": [
    "import numpy as np\n",
    "import cv2 as cv\n",
    "import matplotlib.pyplot as plt\n",
    "import copy\n",
    "import math\n",
    "import os"
   ]
  },
  {
   "cell_type": "code",
   "execution_count": 7,
   "metadata": {},
   "outputs": [
    {
     "output_type": "stream",
     "name": "stdout",
     "text": "Untitled.ipynb\t sample_generated_recoded.mp4  tensorflow-tutorials\nUntitled1.ipynb  tendai\n"
    }
   ],
   "source": [
    "!ls"
   ]
  },
  {
   "cell_type": "code",
   "execution_count": 7,
   "metadata": {},
   "outputs": [],
   "source": [
    "os.chdir(\"/tf/tendai/bio-eye-tracker/\")"
   ]
  },
  {
   "cell_type": "code",
   "execution_count": 4,
   "metadata": {},
   "outputs": [],
   "source": [
    "os.chdir(\"/tf/tendai/\")"
   ]
  },
  {
   "cell_type": "code",
   "execution_count": 8,
   "metadata": {},
   "outputs": [],
   "source": [
    "def plot(img):\n",
    "    fig, ax = plt.subplots(figsize = (10,10))\n",
    "    ax.imshow(img)\n",
    "    \n",
    "def get_speed(size, delta, framerate):\n",
    "    speed = size*delta/framerate\n",
    "    return speed"
   ]
  },
  {
   "cell_type": "code",
   "execution_count": 9,
   "metadata": {},
   "outputs": [
    {
     "output_type": "stream",
     "name": "stdout",
     "text": "2.2766666666666664\n1366 768\n"
    }
   ],
   "source": [
    "background = np.full((768,1366,3),255).astype(dtype = 'uint8')\n",
    "HEIGHT, WIDTH, _ = background.shape\n",
    "FRAMERATE = 120.0\n",
    "SPEED = get_speed(WIDTH, 0.2, FRAMERATE)\n",
    "fourcc = cv.VideoWriter_fourcc('m', 'p', '4', 'v') # note the lower case\n",
    "out = cv.VideoWriter()\n",
    "success = out.open('sample_generated_recoded.mp4',fourcc,FRAMERATE,(WIDTH, HEIGHT),True) \n",
    "print(SPEED)\n",
    "print(WIDTH, HEIGHT)"
   ]
  },
  {
   "cell_type": "code",
   "execution_count": 11,
   "metadata": {},
   "outputs": [],
   "source": [
    "stim_mode = ['point','text']\n",
    "traj_mode = ['linear', 'circle']"
   ]
  },
  {
   "cell_type": "code",
   "execution_count": 12,
   "metadata": {},
   "outputs": [],
   "source": [
    "def GenerateVideo(out, background, speeed, time, framerate, radius = 5, color = (255, 0, 0), thickness = 5):\n",
    "    Y, X, _ = background.shape\n",
    "    X_center = X/2\n",
    "    Y_center = Y/2\n",
    "    \n",
    "    \n",
    "    rad = 100\n",
    "    phi = 0\n",
    "    \n",
    "    offset = np.array([1,0])*speeed\n",
    "    print(offset)\n",
    "\n",
    "    framecounts = int(time*framerate)\n",
    "    \n",
    "    for i in range(framecounts):\n",
    "        \n",
    "        phi = phi+0.01\n",
    "        \n",
    "        \n",
    "        X = X_center+ math.sin(phi)*rad\n",
    "        Y = Y_center+ math.cos(phi)*rad\n",
    "        \n",
    "        center_coordinates = (int(X),int(Y))\n",
    "\n",
    "        \n",
    "        back = copy.deepcopy(background)\n",
    "        frame = cv.circle(back, center_coordinates, radius, color, thickness) \n",
    "        #frame = cv.flip(frame,-1)\n",
    "        out.write(frame)\n",
    "    print(X,Y)\n",
    "    out.release()"
   ]
  },
  {
   "cell_type": "code",
   "execution_count": 13,
   "metadata": {},
   "outputs": [
    {
     "output_type": "stream",
     "name": "stdout",
     "text": "[2.27666667 0.        ]\n629.3427081999387 468.3853958732379\n"
    }
   ],
   "source": [
    "GenerateVideo(out,background,SPEED, 10, FRAMERATE)"
   ]
  },
  {
   "cell_type": "code",
   "execution_count": 14,
   "metadata": {},
   "outputs": [
    {
     "output_type": "execute_result",
     "data": {
      "text/plain": "(768, 1366, 3)"
     },
     "metadata": {},
     "execution_count": 14
    }
   ],
   "source": [
    " background.shape"
   ]
  },
  {
   "cell_type": "code",
   "execution_count": 15,
   "metadata": {},
   "outputs": [
    {
     "output_type": "stream",
     "name": "stdout",
     "text": "(0, 0)\n(768, 1366)\ngg\n"
    }
   ],
   "source": [
    "cap = cv.VideoCapture('sample.mp4')\n",
    "\n",
    "X, Y = 0,0\n",
    "radius = 5\n",
    "color = (255, 0, 0)\n",
    "thickness = 5\n",
    "offset = np.ones(2)*2\n",
    "OUT = 0\n",
    "\n",
    "size = (int(cap.get(cv.CAP_PROP_FRAME_WIDTH)),\n",
    "        int(cap.get(cv.CAP_PROP_FRAME_HEIGHT)))\n",
    "print(size)\n",
    "size = (HEIGHT, WIDTH)\n",
    "print(size)\n",
    "fps = 20\n",
    "fourcc = cv.VideoWriter_fourcc('m', 'p', '4', 'v') # note the lower case\n",
    "vout = cv.VideoWriter()\n",
    "success = vout.open('sample_worked.mp4',fourcc,fps,size,True) \n",
    "\n",
    "\n",
    "\n",
    "for i in range(100):\n",
    "    ret, frame = cap.read()\n",
    "    if not ret:\n",
    "        print(\"gg\")\n",
    "        break\n",
    "    OUT = frame\n",
    "    \n",
    "    \n",
    "    X = X+offset[0]\n",
    "    Y = Y+offset[1]\n",
    "    center_coordinates = (int(X),int(Y))\n",
    "    frame = copy.deepcopy(background)\n",
    "    \n",
    "    frame = cv.flip(frame, -1)\n",
    "    frame = cv.circle(frame, center_coordinates, radius, color, thickness) \n",
    "    vout.write(frame) \n",
    "\n",
    "    cv.imshow('frame', frame)\n",
    "\n",
    "    if cv.waitKey(1) & 0xFF == ord('q'):\n",
    "        break\n",
    "\n",
    "cap.release()\n",
    "vout.release()\n",
    "cv.destroyAllWindows()"
   ]
  },
  {
   "cell_type": "code",
   "execution_count": 18,
   "metadata": {},
   "outputs": [
    {
     "output_type": "execute_result",
     "data": {
      "text/plain": "(0, (768, 1366, 3))"
     },
     "metadata": {},
     "execution_count": 18
    }
   ],
   "source": [
    "OUT, background.shape"
   ]
  },
  {
   "cell_type": "code",
   "execution_count": null,
   "metadata": {},
   "outputs": [],
   "source": []
  },
  {
   "cell_type": "code",
   "execution_count": 19,
   "metadata": {},
   "outputs": [
    {
     "output_type": "execute_result",
     "data": {
      "text/plain": "(768, 1366, 3)"
     },
     "metadata": {},
     "execution_count": 19
    }
   ],
   "source": [
    "background.shape"
   ]
  },
  {
   "cell_type": "code",
   "execution_count": null,
   "metadata": {},
   "outputs": [],
   "source": []
  }
 ],
 "metadata": {
  "kernelspec": {
   "display_name": "Python 3",
   "language": "python",
   "name": "python3"
  },
  "language_info": {
   "codemirror_mode": {
    "name": "ipython",
    "version": 3
   },
   "file_extension": ".py",
   "mimetype": "text/x-python",
   "name": "python",
   "nbconvert_exporter": "python",
   "pygments_lexer": "ipython3",
   "version": "3.7.6-final"
  }
 },
 "nbformat": 4,
 "nbformat_minor": 4
}